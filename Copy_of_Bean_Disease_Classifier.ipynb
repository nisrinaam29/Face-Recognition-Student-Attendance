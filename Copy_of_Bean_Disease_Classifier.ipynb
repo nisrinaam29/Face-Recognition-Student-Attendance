{
  "cells": [
    {
      "cell_type": "markdown",
      "metadata": {
        "id": "view-in-github",
        "colab_type": "text"
      },
      "source": [
        "<a href=\"https://colab.research.google.com/github/nisrinaam29/Face-Recognition-Student-Attendance/blob/main/Copy_of_Bean_Disease_Classifier.ipynb\" target=\"_parent\"><img src=\"https://colab.research.google.com/assets/colab-badge.svg\" alt=\"Open In Colab\"/></a>"
      ]
    },
    {
      "cell_type": "markdown",
      "metadata": {
        "id": "ktqTCGHJw-ws"
      },
      "source": [
        "# Bean Disease Classifier\n",
        "For this preject i build a classifier for bean disease. The dataset based on 224x224 pixel color images taken of bean plants in Uganda. These images show healthy bean leaves as well as 2 types of common disease: bean rust and angular leaf spots. The goal is to build a neural network than can tell the difference between the healthy and diseased leaves.\n"
      ]
    },
    {
      "cell_type": "code",
      "execution_count": null,
      "metadata": {
        "id": "lRV-f1DSwwiC",
        "colab": {
          "base_uri": "https://localhost:8080/"
        },
        "outputId": "dd609da2-8f20-46cb-c556-45a2e695a410"
      },
      "outputs": [
        {
          "output_type": "stream",
          "name": "stdout",
          "text": [
            "Requirement already satisfied: gdown in /usr/local/lib/python3.10/dist-packages (4.6.6)\n",
            "Collecting gdown\n",
            "  Downloading gdown-4.7.1-py3-none-any.whl (15 kB)\n",
            "Requirement already satisfied: filelock in /usr/local/lib/python3.10/dist-packages (from gdown) (3.12.4)\n",
            "Requirement already satisfied: requests[socks] in /usr/local/lib/python3.10/dist-packages (from gdown) (2.31.0)\n",
            "Requirement already satisfied: six in /usr/local/lib/python3.10/dist-packages (from gdown) (1.16.0)\n",
            "Requirement already satisfied: tqdm in /usr/local/lib/python3.10/dist-packages (from gdown) (4.66.1)\n",
            "Requirement already satisfied: beautifulsoup4 in /usr/local/lib/python3.10/dist-packages (from gdown) (4.11.2)\n",
            "Requirement already satisfied: soupsieve>1.2 in /usr/local/lib/python3.10/dist-packages (from beautifulsoup4->gdown) (2.5)\n",
            "Requirement already satisfied: charset-normalizer<4,>=2 in /usr/local/lib/python3.10/dist-packages (from requests[socks]->gdown) (3.3.0)\n",
            "Requirement already satisfied: idna<4,>=2.5 in /usr/local/lib/python3.10/dist-packages (from requests[socks]->gdown) (3.4)\n",
            "Requirement already satisfied: urllib3<3,>=1.21.1 in /usr/local/lib/python3.10/dist-packages (from requests[socks]->gdown) (2.0.7)\n",
            "Requirement already satisfied: certifi>=2017.4.17 in /usr/local/lib/python3.10/dist-packages (from requests[socks]->gdown) (2023.7.22)\n",
            "Requirement already satisfied: PySocks!=1.5.7,>=1.5.6 in /usr/local/lib/python3.10/dist-packages (from requests[socks]->gdown) (1.7.1)\n",
            "Installing collected packages: gdown\n",
            "  Attempting uninstall: gdown\n",
            "    Found existing installation: gdown 4.6.6\n",
            "    Uninstalling gdown-4.6.6:\n",
            "      Successfully uninstalled gdown-4.6.6\n",
            "Successfully installed gdown-4.7.1\n"
          ]
        }
      ],
      "source": [
        "!pip install --upgrade --no-cache-dir gdown"
      ]
    },
    {
      "cell_type": "code",
      "execution_count": null,
      "metadata": {
        "id": "njf4YhwFb6hW",
        "colab": {
          "base_uri": "https://localhost:8080/"
        },
        "outputId": "d9384375-8107-4fe0-8b1f-8634496bbfe2"
      },
      "outputs": [
        {
          "output_type": "stream",
          "name": "stdout",
          "text": [
            "Downloading...\n",
            "From: https://storage.googleapis.com/learning-datasets/beans/train.zip\n",
            "To: /tmp/train.zip\n",
            "100% 144M/144M [00:01<00:00, 115MB/s]\n",
            "Downloading...\n",
            "From: https://storage.googleapis.com/learning-datasets/beans/validation.zip\n",
            "To: /tmp/validation.zip\n",
            "100% 18.5M/18.5M [00:00<00:00, 41.7MB/s]\n",
            "Downloading...\n",
            "From: https://storage.googleapis.com/learning-datasets/beans/test.zip\n",
            "To: /tmp/test.zip\n",
            "100% 17.7M/17.7M [00:00<00:00, 50.5MB/s]\n"
          ]
        }
      ],
      "source": [
        "!gdown \"https://storage.googleapis.com/learning-datasets/beans/train.zip\" -O /tmp/train.zip\n",
        "!gdown \"https://storage.googleapis.com/learning-datasets/beans/validation.zip\" -O /tmp/validation.zip\n",
        "!gdown \"https://storage.googleapis.com/learning-datasets/beans/test.zip\" -O /tmp/test.zip"
      ]
    },
    {
      "cell_type": "code",
      "execution_count": null,
      "metadata": {
        "id": "KscpTrSWcK1T"
      },
      "outputs": [],
      "source": [
        "import os\n",
        "import zipfile\n",
        "\n",
        "local_zip = '/tmp/train.zip'\n",
        "zip_ref = zipfile.ZipFile(local_zip, 'r')\n",
        "zip_ref.extractall('/tmp')\n",
        "local_zip = '/tmp/validation.zip'\n",
        "zip_ref = zipfile.ZipFile(local_zip, 'r')\n",
        "zip_ref.extractall('/tmp')\n",
        "local_zip = '/tmp/test.zip'\n",
        "zip_ref = zipfile.ZipFile(local_zip, 'r')\n",
        "zip_ref.extractall('/tmp/test')\n",
        "zip_ref.close()"
      ]
    },
    {
      "cell_type": "markdown",
      "source": [
        "PRE PROCESSING AND LOAD DATA TRAIN, TEST, VAL"
      ],
      "metadata": {
        "id": "Il35jlqsYbPl"
      }
    },
    {
      "cell_type": "code",
      "execution_count": null,
      "metadata": {
        "id": "jCiSd248caB4",
        "colab": {
          "base_uri": "https://localhost:8080/"
        },
        "outputId": "9b513c76-bb9f-464f-c63b-97cad963594c"
      },
      "outputs": [
        {
          "output_type": "stream",
          "name": "stdout",
          "text": [
            "Found 1034 images belonging to 3 classes.\n",
            "Found 133 images belonging to 3 classes.\n",
            "Found 133 images belonging to 3 classes.\n"
          ]
        }
      ],
      "source": [
        "from tensorflow.keras.preprocessing.image import ImageDataGenerator\n",
        "\n",
        "train_datagen = ImageDataGenerator(\n",
        "      rescale=1./255,\n",
        "      rotation_range=20,\n",
        "      width_shift_range=0.2,\n",
        "      height_shift_range=0.2,\n",
        "      shear_range=0.2,\n",
        "      zoom_range=0.2,\n",
        "      horizontal_flip=True,\n",
        "      fill_mode='nearest'\n",
        ")\n",
        "\n",
        "validation_datagen = ImageDataGenerator(\n",
        "      rescale=1./255\n",
        ")\n",
        "test_datagen = ImageDataGenerator(\n",
        "      rescale=1./255\n",
        ")\n",
        "\n",
        "TRAIN_DIRECTORY_LOCATION = '/tmp/train'\n",
        "VAL_DIRECTORY_LOCATION = '/tmp/validation'\n",
        "TEST_DIRECTORY_LOCATION = '/tmp/validation'\n",
        "TARGET_SIZE = (224,224)\n",
        "CLASS_MODE ='categorical'\n",
        "\n",
        "train_generator = train_datagen.flow_from_directory(\n",
        "    TRAIN_DIRECTORY_LOCATION,\n",
        "    target_size = TARGET_SIZE,\n",
        "    batch_size = 128,\n",
        "    class_mode = CLASS_MODE\n",
        ")\n",
        "\n",
        "validation_generator = validation_datagen.flow_from_directory(\n",
        "    VAL_DIRECTORY_LOCATION,\n",
        "    target_size = TARGET_SIZE,\n",
        "    batch_size = 128,\n",
        "    class_mode = CLASS_MODE\n",
        ")\n",
        "\n",
        "test_generator = test_datagen.flow_from_directory(\n",
        "    TEST_DIRECTORY_LOCATION,\n",
        "    target_size = TARGET_SIZE,\n",
        "    batch_size = 128,\n",
        "    class_mode = CLASS_MODE\n",
        ")\n",
        "\n"
      ]
    },
    {
      "cell_type": "markdown",
      "source": [
        "BUILD MODEL\n"
      ],
      "metadata": {
        "id": "LImjUN_dZ-X6"
      }
    },
    {
      "cell_type": "code",
      "execution_count": null,
      "metadata": {
        "id": "vrJt6YSDcqjX",
        "colab": {
          "base_uri": "https://localhost:8080/"
        },
        "outputId": "4ec3be55-d541-4140-bb02-08fa98376b0f"
      },
      "outputs": [
        {
          "output_type": "stream",
          "name": "stdout",
          "text": [
            "Model: \"sequential\"\n",
            "_________________________________________________________________\n",
            " Layer (type)                Output Shape              Param #   \n",
            "=================================================================\n",
            " conv2d (Conv2D)             (None, 222, 222, 32)      896       \n",
            "                                                                 \n",
            " max_pooling2d (MaxPooling2  (None, 111, 111, 32)      0         \n",
            " D)                                                              \n",
            "                                                                 \n",
            " conv2d_1 (Conv2D)           (None, 109, 109, 64)      18496     \n",
            "                                                                 \n",
            " max_pooling2d_1 (MaxPoolin  (None, 54, 54, 64)        0         \n",
            " g2D)                                                            \n",
            "                                                                 \n",
            " conv2d_2 (Conv2D)           (None, 52, 52, 128)       73856     \n",
            "                                                                 \n",
            " max_pooling2d_2 (MaxPoolin  (None, 26, 26, 128)       0         \n",
            " g2D)                                                            \n",
            "                                                                 \n",
            " conv2d_3 (Conv2D)           (None, 24, 24, 256)       295168    \n",
            "                                                                 \n",
            " max_pooling2d_3 (MaxPoolin  (None, 12, 12, 256)       0         \n",
            " g2D)                                                            \n",
            "                                                                 \n",
            " flatten (Flatten)           (None, 36864)             0         \n",
            "                                                                 \n",
            " dense (Dense)               (None, 512)               18874880  \n",
            "                                                                 \n",
            " dense_1 (Dense)             (None, 256)               131328    \n",
            "                                                                 \n",
            " dense_2 (Dense)             (None, 3)                 771       \n",
            "                                                                 \n",
            "=================================================================\n",
            "Total params: 19395395 (73.99 MB)\n",
            "Trainable params: 19395395 (73.99 MB)\n",
            "Non-trainable params: 0 (0.00 Byte)\n",
            "_________________________________________________________________\n"
          ]
        }
      ],
      "source": [
        "import tensorflow as tf\n",
        "model = tf.keras.models.Sequential([\n",
        "    tf.keras.layers.Conv2D(32, (3,3), activation='relu', input_shape=(224, 224, 3)),\n",
        "    tf.keras.layers.MaxPooling2D(2, 2),\n",
        "    # The second convolution\n",
        "    tf.keras.layers.Conv2D(64, (3,3), activation='relu'),\n",
        "    tf.keras.layers.MaxPooling2D(2,2),\n",
        "    # The third convolution\n",
        "    tf.keras.layers.Conv2D(128, (3,3), activation='relu'),\n",
        "    tf.keras.layers.MaxPooling2D(2,2),\n",
        "    # The fourth convolution\n",
        "    tf.keras.layers.Conv2D(256, (3,3), activation='relu'),\n",
        "    tf.keras.layers.MaxPooling2D(2,2),\n",
        "    # Flatten the results to feed into a DNN\n",
        "    tf.keras.layers.Flatten(),\n",
        "    # 512 neuron hidden layer\n",
        "    tf.keras.layers.Dense(512, activation='relu'),\n",
        "    tf.keras.layers.Dense(256, activation='relu'),\n",
        "    # There are 3 output neuron. It will contain 3 class, angular leaf spot, bean rust, healthy\n",
        "    tf.keras.layers.Dense(3, activation='softmax')\n",
        "])\n",
        "\n",
        "# This will print a summary of your model when you're done!\n",
        "model.summary()"
      ]
    },
    {
      "cell_type": "markdown",
      "source": [
        "COMPILING THE MODEL"
      ],
      "metadata": {
        "id": "YPnVm4SKaKFM"
      }
    },
    {
      "cell_type": "code",
      "execution_count": null,
      "metadata": {
        "id": "nST6CyvCcy-2"
      },
      "outputs": [],
      "source": [
        "LOSS_FUNCTION = 'categorical_crossentropy'\n",
        "OPTIMIZER = 'adam'\n",
        "\n",
        "model.compile(OPTIMIZER, LOSS_FUNCTION, metrics=['accuracy'])"
      ]
    },
    {
      "cell_type": "markdown",
      "source": [
        "MODEL TRAIN"
      ],
      "metadata": {
        "id": "OUQCUzyfaOcz"
      }
    },
    {
      "cell_type": "code",
      "execution_count": null,
      "metadata": {
        "id": "Q3iK9LX9deu2",
        "colab": {
          "base_uri": "https://localhost:8080/"
        },
        "outputId": "bd42a31d-ffce-4ee6-b34a-23720d15742f"
      },
      "outputs": [
        {
          "output_type": "stream",
          "name": "stdout",
          "text": [
            "Epoch 1/50\n",
            "9/9 [==============================] - 37s 2s/step - loss: 1.3565 - accuracy: 0.3346 - val_loss: 1.0830 - val_accuracy: 0.3383\n",
            "Epoch 2/50\n",
            "9/9 [==============================] - 15s 2s/step - loss: 1.0995 - accuracy: 0.4439 - val_loss: 1.1236 - val_accuracy: 0.3684\n",
            "Epoch 3/50\n",
            "9/9 [==============================] - 16s 2s/step - loss: 1.0672 - accuracy: 0.4043 - val_loss: 1.0712 - val_accuracy: 0.3308\n",
            "Epoch 4/50\n",
            "9/9 [==============================] - 16s 2s/step - loss: 1.0474 - accuracy: 0.4333 - val_loss: 0.9504 - val_accuracy: 0.5188\n",
            "Epoch 5/50\n",
            "9/9 [==============================] - 18s 2s/step - loss: 0.9270 - accuracy: 0.5619 - val_loss: 0.8761 - val_accuracy: 0.5940\n",
            "Epoch 6/50\n",
            "9/9 [==============================] - 15s 2s/step - loss: 0.9200 - accuracy: 0.5551 - val_loss: 0.8216 - val_accuracy: 0.6316\n",
            "Epoch 7/50\n",
            "9/9 [==============================] - 15s 2s/step - loss: 0.8710 - accuracy: 0.5986 - val_loss: 0.8220 - val_accuracy: 0.5865\n",
            "Epoch 8/50\n",
            "9/9 [==============================] - 16s 2s/step - loss: 0.8463 - accuracy: 0.6103 - val_loss: 0.7176 - val_accuracy: 0.6992\n",
            "Epoch 9/50\n",
            "9/9 [==============================] - 16s 2s/step - loss: 0.7724 - accuracy: 0.6683 - val_loss: 0.8038 - val_accuracy: 0.6541\n",
            "Epoch 10/50\n",
            "9/9 [==============================] - 15s 2s/step - loss: 0.8685 - accuracy: 0.6190 - val_loss: 0.8153 - val_accuracy: 0.6165\n",
            "Epoch 11/50\n",
            "9/9 [==============================] - 15s 2s/step - loss: 0.7833 - accuracy: 0.6422 - val_loss: 0.7609 - val_accuracy: 0.6391\n",
            "Epoch 12/50\n",
            "9/9 [==============================] - 16s 2s/step - loss: 0.7920 - accuracy: 0.6325 - val_loss: 0.6300 - val_accuracy: 0.7293\n",
            "Epoch 13/50\n",
            "9/9 [==============================] - 16s 2s/step - loss: 0.7212 - accuracy: 0.6789 - val_loss: 0.6272 - val_accuracy: 0.7218\n",
            "Epoch 14/50\n",
            "9/9 [==============================] - 16s 2s/step - loss: 0.6553 - accuracy: 0.7128 - val_loss: 0.7625 - val_accuracy: 0.6391\n",
            "Epoch 15/50\n",
            "9/9 [==============================] - 15s 2s/step - loss: 0.7630 - accuracy: 0.6412 - val_loss: 0.8187 - val_accuracy: 0.6541\n",
            "Epoch 16/50\n",
            "9/9 [==============================] - 15s 2s/step - loss: 0.6515 - accuracy: 0.7195 - val_loss: 0.7190 - val_accuracy: 0.7068\n",
            "Epoch 17/50\n",
            "9/9 [==============================] - 15s 2s/step - loss: 0.6830 - accuracy: 0.6963 - val_loss: 0.4708 - val_accuracy: 0.7970\n",
            "Epoch 18/50\n",
            "9/9 [==============================] - 15s 2s/step - loss: 0.6330 - accuracy: 0.7089 - val_loss: 0.6543 - val_accuracy: 0.6992\n",
            "Epoch 19/50\n",
            "9/9 [==============================] - 16s 2s/step - loss: 0.5773 - accuracy: 0.7466 - val_loss: 0.6007 - val_accuracy: 0.7143\n",
            "Epoch 20/50\n",
            "9/9 [==============================] - 15s 2s/step - loss: 0.5250 - accuracy: 0.7785 - val_loss: 0.4398 - val_accuracy: 0.8195\n",
            "Epoch 21/50\n",
            "9/9 [==============================] - 17s 2s/step - loss: 0.6833 - accuracy: 0.7302 - val_loss: 0.4743 - val_accuracy: 0.7820\n",
            "Epoch 22/50\n",
            "9/9 [==============================] - 15s 2s/step - loss: 0.6128 - accuracy: 0.7253 - val_loss: 0.5804 - val_accuracy: 0.7068\n",
            "Epoch 23/50\n",
            "9/9 [==============================] - 17s 2s/step - loss: 0.6144 - accuracy: 0.7321 - val_loss: 0.6378 - val_accuracy: 0.7143\n",
            "Epoch 24/50\n",
            "9/9 [==============================] - 15s 2s/step - loss: 0.5803 - accuracy: 0.7447 - val_loss: 0.5664 - val_accuracy: 0.6992\n",
            "Epoch 25/50\n",
            "9/9 [==============================] - 15s 2s/step - loss: 0.5779 - accuracy: 0.7408 - val_loss: 0.4488 - val_accuracy: 0.7744\n",
            "Epoch 26/50\n",
            "9/9 [==============================] - 15s 2s/step - loss: 0.5575 - accuracy: 0.7669 - val_loss: 0.6066 - val_accuracy: 0.7368\n",
            "Epoch 27/50\n",
            "9/9 [==============================] - 15s 2s/step - loss: 0.5461 - accuracy: 0.7495 - val_loss: 0.4703 - val_accuracy: 0.7895\n",
            "Epoch 28/50\n",
            "9/9 [==============================] - 15s 2s/step - loss: 0.5429 - accuracy: 0.7737 - val_loss: 0.4288 - val_accuracy: 0.7820\n",
            "Epoch 29/50\n",
            "9/9 [==============================] - 15s 2s/step - loss: 0.5621 - accuracy: 0.7795 - val_loss: 0.5471 - val_accuracy: 0.7519\n",
            "Epoch 30/50\n",
            "9/9 [==============================] - 15s 2s/step - loss: 0.7572 - accuracy: 0.6692 - val_loss: 0.5090 - val_accuracy: 0.7820\n",
            "Epoch 31/50\n",
            "9/9 [==============================] - 16s 2s/step - loss: 0.6011 - accuracy: 0.7408 - val_loss: 0.5741 - val_accuracy: 0.7594\n",
            "Epoch 32/50\n",
            "9/9 [==============================] - 16s 2s/step - loss: 0.5877 - accuracy: 0.7437 - val_loss: 0.4534 - val_accuracy: 0.8195\n",
            "Epoch 33/50\n",
            "9/9 [==============================] - 15s 2s/step - loss: 0.5988 - accuracy: 0.7505 - val_loss: 0.4586 - val_accuracy: 0.7970\n",
            "Epoch 34/50\n",
            "9/9 [==============================] - 16s 2s/step - loss: 0.5344 - accuracy: 0.7650 - val_loss: 0.4931 - val_accuracy: 0.7970\n",
            "Epoch 35/50\n",
            "9/9 [==============================] - 15s 2s/step - loss: 0.5191 - accuracy: 0.7747 - val_loss: 0.3960 - val_accuracy: 0.8045\n",
            "Epoch 36/50\n",
            "9/9 [==============================] - 15s 2s/step - loss: 0.5037 - accuracy: 0.7834 - val_loss: 0.4451 - val_accuracy: 0.8271\n",
            "Epoch 37/50\n",
            "9/9 [==============================] - 15s 2s/step - loss: 0.4782 - accuracy: 0.7979 - val_loss: 0.4786 - val_accuracy: 0.8045\n",
            "Epoch 38/50\n",
            "9/9 [==============================] - 16s 2s/step - loss: 0.5049 - accuracy: 0.7892 - val_loss: 0.3869 - val_accuracy: 0.8271\n",
            "Epoch 39/50\n",
            "9/9 [==============================] - 15s 2s/step - loss: 0.5282 - accuracy: 0.7805 - val_loss: 0.4962 - val_accuracy: 0.7669\n",
            "Epoch 40/50\n",
            "9/9 [==============================] - 15s 2s/step - loss: 0.4970 - accuracy: 0.7930 - val_loss: 0.4830 - val_accuracy: 0.8120\n",
            "Epoch 41/50\n",
            "9/9 [==============================] - 15s 2s/step - loss: 0.4707 - accuracy: 0.7988 - val_loss: 0.3208 - val_accuracy: 0.8872\n",
            "Epoch 42/50\n",
            "9/9 [==============================] - 15s 2s/step - loss: 0.4106 - accuracy: 0.8211 - val_loss: 0.5240 - val_accuracy: 0.7895\n",
            "Epoch 43/50\n",
            "9/9 [==============================] - 16s 2s/step - loss: 0.4803 - accuracy: 0.8027 - val_loss: 0.4030 - val_accuracy: 0.8045\n",
            "Epoch 44/50\n",
            "9/9 [==============================] - 15s 2s/step - loss: 0.5466 - accuracy: 0.7573 - val_loss: 0.4562 - val_accuracy: 0.8195\n",
            "Epoch 45/50\n",
            "9/9 [==============================] - 16s 2s/step - loss: 0.5172 - accuracy: 0.7727 - val_loss: 0.4057 - val_accuracy: 0.8421\n",
            "Epoch 46/50\n",
            "9/9 [==============================] - 16s 2s/step - loss: 0.5023 - accuracy: 0.7872 - val_loss: 0.3091 - val_accuracy: 0.9023\n",
            "Epoch 47/50\n",
            "9/9 [==============================] - 15s 2s/step - loss: 0.5145 - accuracy: 0.7766 - val_loss: 0.4039 - val_accuracy: 0.8045\n",
            "Epoch 48/50\n",
            "9/9 [==============================] - 16s 2s/step - loss: 0.4970 - accuracy: 0.7921 - val_loss: 0.4745 - val_accuracy: 0.8045\n",
            "Epoch 49/50\n",
            "9/9 [==============================] - 16s 2s/step - loss: 0.4415 - accuracy: 0.8221 - val_loss: 0.4188 - val_accuracy: 0.8421\n",
            "Epoch 50/50\n",
            "9/9 [==============================] - 16s 2s/step - loss: 0.4017 - accuracy: 0.8211 - val_loss: 0.3167 - val_accuracy: 0.9023\n"
          ]
        }
      ],
      "source": [
        "NUM_EPOCHS = 50 #YOUR CODE HERE#\n",
        "\n",
        "history = model.fit(\n",
        "      train_generator,\n",
        "      epochs = NUM_EPOCHS,\n",
        "      verbose = 1,\n",
        "      validation_data = validation_generator)\n"
      ]
    },
    {
      "cell_type": "markdown",
      "source": [
        "MODEL PREDICTIONS"
      ],
      "metadata": {
        "id": "PPMfdrQRaQ5U"
      }
    },
    {
      "cell_type": "code",
      "source": [
        "import numpy as np\n",
        "predictions = model.predict(test_generator)\n",
        "predicted_labels = np.argmax(predictions, axis = 1)\n",
        "\n",
        "test_loss, test_accuracy = model.evaluate(test_generator)\n",
        "print(f\"Test Accuracy : {test_accuracy}\")\n",
        "print(f\"Test Loss : {test_loss}\")"
      ],
      "metadata": {
        "colab": {
          "base_uri": "https://localhost:8080/"
        },
        "id": "-jCbuoMISlIu",
        "outputId": "c463c171-a679-4ee3-a7ca-e508d2ef1adb"
      },
      "execution_count": null,
      "outputs": [
        {
          "output_type": "stream",
          "name": "stdout",
          "text": [
            "2/2 [==============================] - 1s 55ms/step\n",
            "2/2 [==============================] - 1s 12ms/step - loss: 0.3167 - accuracy: 0.9023\n",
            "Test Accuracy : 0.902255654335022\n",
            "Test Loss : 0.3167368471622467\n"
          ]
        }
      ]
    },
    {
      "cell_type": "code",
      "source": [
        "import matplotlib.pyplot as plt\n",
        "plt.figure(figsize = (12, 4))\n",
        "\n",
        "plt.subplot(1, 2, 1)\n",
        "plt.plot(history.history['accuracy'], label = 'Training Accuracy')\n",
        "plt.plot(history.history['val_accuracy'], label = 'Validation Accuracy')\n",
        "plt.xlabel('Number of Epochs')\n",
        "plt.ylabel('Accuracy')\n",
        "plt.legend()\n",
        "\n",
        "plt.subplot(1, 2, 2)\n",
        "plt.plot(history.history['loss'], label = 'Training Loss')\n",
        "plt.plot(history.history['val_loss'], label = 'Validation Loss')\n",
        "plt.xlabel('Number of Epochs')\n",
        "plt.ylabel('Loss')\n",
        "plt.legend()\n",
        "\n",
        "plt.show()"
      ],
      "metadata": {
        "colab": {
          "base_uri": "https://localhost:8080/",
          "height": 391
        },
        "id": "pyYuKhKYU9hc",
        "outputId": "0e0590ff-2c61-49e5-dcff-7033c39fecd8"
      },
      "execution_count": null,
      "outputs": [
        {
          "output_type": "display_data",
          "data": {
            "text/plain": [
              "<Figure size 1200x400 with 2 Axes>"
            ],
            "image/png": "[encoded data removed]"
          },
          "metadata": {}
        }
      ]
    }
  ],
  "metadata": {
    "accelerator": "GPU",
    "colab": {
      "provenance": [],
      "include_colab_link": true
    },
    "kernelspec": {
      "display_name": "Python 3",
      "language": "python",
      "name": "python3"
    },
    "language_info": {
      "codemirror_mode": {
        "name": "ipython",
        "version": 3
      },
      "file_extension": ".py",
      "mimetype": "text/x-python",
      "name": "python",
      "nbconvert_exporter": "python",
      "pygments_lexer": "ipython3",
      "version": "3.10.12"
    }
  },
  "nbformat": 4,
  "nbformat_minor": 0
}